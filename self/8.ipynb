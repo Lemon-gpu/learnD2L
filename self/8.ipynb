{
 "cells": [
  {
   "cell_type": "code",
   "execution_count": null,
   "metadata": {},
   "outputs": [],
   "source": [
    "import torch\n",
    "import torchvision \n",
    "from torch.utils import data\n",
    "from torchvision import transforms\n",
    "from d2l import torch as d2l\n",
    "import sys\n",
    "\n",
    "d2l.use_svg_display()"
   ]
  },
  {
   "cell_type": "code",
   "execution_count": null,
   "metadata": {},
   "outputs": [],
   "source": [
    "trans: transforms.ToTensor = transforms.ToTensor() # 一个转换器，将pil类型转为32位浮点，并规范到0-1的浮点内\n",
    "mnist_train: torchvision.datasets.FashionMNIST = torchvision.datasets.FashionMNIST(\n",
    "    root=\"../self/data/\",\n",
    "    train=True,\n",
    "    transform=trans,\n",
    "    download=True\n",
    ")\n",
    "\n",
    "mnist_test: torchvision.datasets.FashionMNIST = torchvision.datasets.FashionMNIST(\n",
    "    root=\"../self/data/\",\n",
    "    train=False,\n",
    "    transform=trans,\n",
    "    download=True\n",
    ")\n"
   ]
  },
  {
   "cell_type": "code",
   "execution_count": null,
   "metadata": {},
   "outputs": [],
   "source": [
    "def get_fashion_mnist_labels(labels: list) -> list:\n",
    "    '''获得标签的文本描述\n",
    "\n",
    "    Args:\n",
    "        labels (list): 输入的标签\n",
    "\n",
    "    Returns:\n",
    "        list: 返回的标签文本描述\n",
    "    '''\n",
    "    text_labels: list = [\n",
    "        \"t-shirt\",\n",
    "        \"trouser\",\n",
    "        \"pullover\",\n",
    "        \"dress\",\n",
    "        \"coat\",\n",
    "        \"sandal\",\n",
    "        \"shirt\",\n",
    "        \"sneaker\",\n",
    "        \"bag\",\n",
    "        \"ankle boot\"\n",
    "    ]\n",
    "    return [text_labels[int(i)] for i in labels] # 一种语法糖，将labels中的每个元素转为int，然后作为text_labels的下标，取出对应的值\n",
    "\n",
    "def show_images(imgs: list, num_rows: int, num_cols: list, titles: list = None, scale: float = 2) -> None:\n",
    "    '''显示图片\n",
    "\n",
    "    Args:\n",
    "        imgs (list): 图片列表\n",
    "        num_rows (int): 行数\n",
    "        num_cols (list): 列数\n",
    "        titles (list, optional): 标题列表. Defaults to None.\n",
    "        scale (float, optional): 图片缩放比例. Defaults to 2.\n",
    "    '''\n",
    "    figsize: tuple = (num_cols * scale, num_rows * scale) # 图片大小\n",
    "    _, axes = d2l.plt.subplots(num_rows, num_cols, figsize=figsize) # 创建子图，子图的意思是将一个大图分为多个小图，返回的是一个元组，第一个元素是子图的figure，第二个元素是子图的axes，axes是一个多维数组，每个元素是一个子图，这里规定了框架的大小\n",
    "    axes = axes.flatten() # 将子图展平，展平的意思是将多维数组转为一维数组，这么做方便下面的迭代。这里的展平不影响展现的框架\n",
    "    for i, (ax, img) in enumerate(zip(axes, imgs)):\n",
    "        if torch.is_tensor(img):\n",
    "            ax.imshow(img.numpy(), cmap=\"gray\") # 如果是tensor类型，转为numpy类型，然后显示为灰度图，不加的话，显示的是彩色图\n",
    "        else:\n",
    "            ax.imshow(img, cmap=\"gray\") # 如果是numpy类型，直接显示为灰度图\n",
    "        ax.axes.get_xaxis().set_visible(False)\n",
    "        ax.axes.get_yaxis().set_visible(False)\n",
    "        if titles:\n",
    "            ax.set_title(titles[i])\n",
    "    d2l.plt.show()"
   ]
  },
  {
   "cell_type": "code",
   "execution_count": null,
   "metadata": {},
   "outputs": [],
   "source": [
    "X, y = next(iter(data.DataLoader(mnist_train, batch_size=18))) # 从mnist_train中取出一个batch_size为18的数据\n",
    "show_images(X.reshape(18, 28, 28), 3, 6, titles=get_fashion_mnist_labels(y)) "
   ]
  },
  {
   "cell_type": "code",
   "execution_count": null,
   "metadata": {},
   "outputs": [],
   "source": [
    "def get_dataloader_workers() -> int:\n",
    "    '''获得dataloader的进程数\n",
    "\n",
    "    Returns:\n",
    "        int: 进程数\n",
    "    '''\n",
    "    return 4"
   ]
  },
  {
   "cell_type": "code",
   "execution_count": null,
   "metadata": {},
   "outputs": [],
   "source": [
    "batch_size: int = 256\n",
    "result: list = []\n",
    "for i in range(1, 13):\n",
    "    train_iter: data.DataLoader = data.DataLoader(mnist_train, batch_size, shuffle=True, num_workers=i)\n",
    "    timer = d2l.Timer() # 计时器\n",
    "\n",
    "    for X, y in train_iter: # 这是为了测试dataloader的速度\n",
    "        continue\n",
    "    result.append(timer.stop())\n",
    "\n",
    "d2l.plt.plot(range(1, 13), result)\n",
    "\n",
    "\n"
   ]
  },
  {
   "cell_type": "code",
   "execution_count": null,
   "metadata": {},
   "outputs": [],
   "source": [
    "def load_data_fashion_mnist(batch_size: int, resize: tuple = None) -> tuple(data.DataLoader):\n",
    "    '''下载fashion_mnist数据集，然后加载为dataloader\n",
    "\n",
    "    Args:\n",
    "        batch_size (int): 每次迭代的batch_size大小\n",
    "        resize (tuple, optional): 是否需要resize. Defaults to None.\n",
    "\n",
    "    Returns:\n",
    "        data.DataLoader: 返回两个Dataloader，第一个是Train，第二个是Test\n",
    "    '''\n",
    "    trans: list = [transforms.ToTensor()]\n",
    "    if resize:\n",
    "        trans.insert(0, transforms.Resize(resize))\n",
    "    trans = transforms.Compose(trans)\n",
    "    mnist_train: torchvision.datasets.FashionMNIST = torchvision.datasets.FashionMNIST(\n",
    "        root=\"../self/data/\",\n",
    "        train=True,\n",
    "        transform=trans,\n",
    "        download=True\n",
    "    )\n",
    "    mnist_test: torchvision.datasets.FashionMNIST = torchvision.datasets.FashionMNIST(\n",
    "        root=\"../self/data/\",\n",
    "        train=False,\n",
    "        transform=trans,\n",
    "        download=True\n",
    "    )\n",
    "    return (\n",
    "        data.DataLoader(mnist_train, batch_size, shuffle=True, num_workers=get_dataloader_workers()),\n",
    "        data.DataLoader(mnist_test, batch_size, shuffle=False, num_workers=get_dataloader_workers())\n",
    "    )"
   ]
  }
 ],
 "metadata": {
  "kernelspec": {
   "display_name": "d2l-zh",
   "language": "python",
   "name": "python3"
  },
  "language_info": {
   "codemirror_mode": {
    "name": "ipython",
    "version": 3
   },
   "file_extension": ".py",
   "mimetype": "text/x-python",
   "name": "python",
   "nbconvert_exporter": "python",
   "pygments_lexer": "ipython3",
   "version": "3.8.16"
  },
  "orig_nbformat": 4
 },
 "nbformat": 4,
 "nbformat_minor": 2
}
